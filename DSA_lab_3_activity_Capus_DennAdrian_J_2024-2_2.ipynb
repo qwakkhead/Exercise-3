{
 "cells": [
  {
   "cell_type": "markdown",
   "metadata": {},
   "source": [
    "# Object Oriented Programming\n",
    "## Laboratory Exercise \n",
    "Deadline: 11:59pm Oct 13, 2024\n",
    "\n",
    "upload you this file together with your answer, the filename should be DSA_Lab3_exercise<name_and_section>.ipynb\n",
    "\n",
    "upload to https://docs.google.com/forms/d/e/1FAIpQLSdbYz8nlwvYws-ukmS2CcJE6YGgJxpD2y0tVvAxfyz-_pV4mg/viewform?usp=pp_url\n"
   ]
  },
  {
   "cell_type": "markdown",
   "metadata": {},
   "source": [
    "## Lab exercise 1\n",
    "\n",
    "from a given list of integers, create a new list using comprehension that will compute the square of odd integer elements.\n",
    "\n",
    "sample calls\n",
    "\n",
    "[2,4,3] == [9]\n",
    "[0,0,1,1] == [1,1]\n"
   ]
  },
  {
   "cell_type": "code",
   "execution_count": 1,
   "metadata": {},
   "outputs": [
    {
     "name": "stdout",
     "output_type": "stream",
     "text": [
      "[9]\n",
      "[1, 1]\n"
     ]
    }
   ],
   "source": [
    "class NumberProcessor:\n",
    "    def __init__(self, numbers):\n",
    "        self.numbers = numbers\n",
    "        self.results = []\n",
    "\n",
    "    def process_numbers(self):\n",
    "        for x in self.numbers:\n",
    "            if x % 2 != 0:\n",
    "                self.results.append(x ** 2)\n",
    "\n",
    "    def get_results(self):\n",
    "        return self.results\n",
    "\n",
    "processor1 = NumberProcessor([2, 4, 3])\n",
    "processor1.process_numbers()\n",
    "print(processor1.get_results())\n",
    "\n",
    "processor2 = NumberProcessor([0, 0, 1, 1])\n",
    "processor2.process_numbers()\n",
    "print(processor2.get_results())\n"
   ]
  },
  {
   "cell_type": "markdown",
   "metadata": {},
   "source": [
    "## Lab exercise 2\n",
    "\n",
    "Using comprehension,create a new list of tuples from two given lists:\n",
    "\n",
    "### sample calls\n",
    "\n",
    "list1[1,2,3]\n",
    "list2[\"mark\",\"alice\",\"john]\n",
    "\n",
    "result: listOfTuple[(1,\"mark\"),(2,\"alice\"),(3,\"john\")] "
   ]
  },
  {
   "cell_type": "code",
   "execution_count": 2,
   "metadata": {},
   "outputs": [
    {
     "name": "stdout",
     "output_type": "stream",
     "text": [
      "[(1, 'mark'), (2, 'alice'), (3, 'john')]\n"
     ]
    }
   ],
   "source": [
    "class Tuple_creator:\n",
    "    def __init__(self, list1, list2):\n",
    "        self.list1 = list1\n",
    "        self.list2 = list2\n",
    "        self.tuple_list = []\n",
    "\n",
    "    def create_tuples(self):\n",
    "        for i in range(len(self.list1)):\n",
    "            self.tuple_list.append((self.list1[i], self.list2[i]))\n",
    "\n",
    "    def get_tuples(self):\n",
    "        return self.tuple_list\n",
    "\n",
    "list1 = [1, 2, 3]\n",
    "list2 = [\"mark\", \"alice\", \"john\"]\n",
    "\n",
    "creator = Tuple_creator(list1, list2)\n",
    "creator.create_tuples()\n",
    "print(creator.get_tuples())\n"
   ]
  },
  {
   "cell_type": "markdown",
   "metadata": {},
   "source": [
    "\n"
   ]
  },
  {
   "cell_type": "markdown",
   "metadata": {},
   "source": [
    "## Lab exercise 3\n",
    "### Provide a list comprehension that implementation for a function called vowelsToUpper with the following signature:\n",
    "\n",
    "method name : vowelsToUpper\n",
    "\n",
    "input argument : String \n",
    "\n",
    "return argument : String\n",
    "\n",
    "vowelsToUpper must return a version of its String argument with all its vowels changed to their uppercase forms. Nonvowel characters stay as is.\n",
    "\n",
    "### Sample Calls\n",
    "\n",
    "vowelsToUpper \"\" == \"\"\n",
    "\n",
    "vowelsToUpper \"Hello, world!\" == \"HEllO, wOrld!\"\n",
    "\n",
    "vowelsToUpper \"hello hi bye\" == \"hEllO hI byE\""
   ]
  },
  {
   "cell_type": "code",
   "execution_count": 3,
   "metadata": {},
   "outputs": [
    {
     "name": "stdout",
     "output_type": "stream",
     "text": [
      "HEllO wOrld\n"
     ]
    }
   ],
   "source": [
    "class VowelConverter:\n",
    "    def __init__(self, input_string):\n",
    "        self.input_string = input_string\n",
    "        self.vowels = \"aeiouAEIOU\"\n",
    "        self.result = \"\"\n",
    "\n",
    "    def convert_vowels(self):\n",
    "        self.result = ''.join([char.upper() if char in self.vowels else char for char in self.input_string])\n",
    "\n",
    "    def get_result(self):\n",
    "        return self.result\n",
    "\n",
    "input_string = str(input(\"Enter what's the word: \"))\n",
    "\n",
    "converter = VowelConverter(input_string)\n",
    "converter.convert_vowels()\n",
    "print(converter.get_result())\n",
    "\n"
   ]
  }
 ],
 "metadata": {
  "kernelspec": {
   "display_name": "Python 3",
   "language": "python",
   "name": "python3"
  },
  "language_info": {
   "codemirror_mode": {
    "name": "ipython",
    "version": 3
   },
   "file_extension": ".py",
   "mimetype": "text/x-python",
   "name": "python",
   "nbconvert_exporter": "python",
   "pygments_lexer": "ipython3",
   "version": "3.11.9"
  }
 },
 "nbformat": 4,
 "nbformat_minor": 2
}
